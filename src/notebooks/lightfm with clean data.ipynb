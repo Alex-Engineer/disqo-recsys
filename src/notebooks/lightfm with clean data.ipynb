{
 "cells": [
  {
   "cell_type": "markdown",
   "id": "9cc25958",
   "metadata": {},
   "source": [
    "# Use lightfm for all data and most populat items for cold start recomendations and clean data before training \n"
   ]
  },
  {
   "cell_type": "code",
   "execution_count": 1,
   "id": "93a3e722",
   "metadata": {},
   "outputs": [],
   "source": [
    "import pandas as pd\n",
    "import numpy as np\n",
    "import multiprocessing as mp\n",
    "NUM_CORE = 6 \n",
    "from lightfm import LightFM"
   ]
  },
  {
   "cell_type": "code",
   "execution_count": 2,
   "id": "edde8dd4",
   "metadata": {},
   "outputs": [],
   "source": [
    "import sys\n",
    "sys.path.append('..')\n",
    "from metrics import apk, mapk, precision_at_k, recall_at_k\n",
    "from utils import get_train_test_data_split, pd_to_scr_matrix\n",
    "from collections import defaultdict"
   ]
  },
  {
   "cell_type": "code",
   "execution_count": 3,
   "id": "0094c416",
   "metadata": {},
   "outputs": [],
   "source": [
    "data = pd.read_csv('../../data/recsys_data.csv')\n",
    "data['date'] =pd.to_datetime(data['date'])"
   ]
  },
  {
   "cell_type": "code",
   "execution_count": 4,
   "id": "9b8b3266",
   "metadata": {},
   "outputs": [],
   "source": [
    "train, test  = get_train_test_data_split(data, val_start = pd.Timestamp('2020-06-27 00:00:00'), test_days= 1 )"
   ]
  },
  {
   "cell_type": "code",
   "execution_count": 5,
   "id": "697e423b",
   "metadata": {},
   "outputs": [],
   "source": [
    "most_popular_items = list(train.loc[train['status']==1, 'survey'].value_counts().index[0:3])"
   ]
  },
  {
   "cell_type": "code",
   "execution_count": 6,
   "id": "bc2928b1",
   "metadata": {},
   "outputs": [
    {
     "data": {
      "text/plain": [
       "[100000513, 100000017, 100000040]"
      ]
     },
     "execution_count": 6,
     "metadata": {},
     "output_type": "execute_result"
    }
   ],
   "source": [
    "most_popular_items"
   ]
  },
  {
   "cell_type": "code",
   "execution_count": 7,
   "id": "31e11f1c",
   "metadata": {},
   "outputs": [],
   "source": [
    "test_actual_results = test.loc[ test['status']==1, \n",
    "                         :].groupby( ['user'] ).apply(  lambda x: list( x['survey']) ).reset_index()\n",
    "\n",
    "test_actual_results.columns = ['user', 'true']\n",
    "\n"
   ]
  },
  {
   "cell_type": "code",
   "execution_count": 8,
   "id": "6378f6de",
   "metadata": {},
   "outputs": [
    {
     "data": {
      "text/html": [
       "<div>\n",
       "<style scoped>\n",
       "    .dataframe tbody tr th:only-of-type {\n",
       "        vertical-align: middle;\n",
       "    }\n",
       "\n",
       "    .dataframe tbody tr th {\n",
       "        vertical-align: top;\n",
       "    }\n",
       "\n",
       "    .dataframe thead th {\n",
       "        text-align: right;\n",
       "    }\n",
       "</style>\n",
       "<table border=\"1\" class=\"dataframe\">\n",
       "  <thead>\n",
       "    <tr style=\"text-align: right;\">\n",
       "      <th></th>\n",
       "      <th>user</th>\n",
       "      <th>true</th>\n",
       "    </tr>\n",
       "  </thead>\n",
       "  <tbody>\n",
       "    <tr>\n",
       "      <th>0</th>\n",
       "      <td>57141</td>\n",
       "      <td>[100002475]</td>\n",
       "    </tr>\n",
       "    <tr>\n",
       "      <th>1</th>\n",
       "      <td>61299</td>\n",
       "      <td>[100000427]</td>\n",
       "    </tr>\n",
       "    <tr>\n",
       "      <th>2</th>\n",
       "      <td>64059</td>\n",
       "      <td>[100006888, 100010236]</td>\n",
       "    </tr>\n",
       "    <tr>\n",
       "      <th>3</th>\n",
       "      <td>65613</td>\n",
       "      <td>[100006556, 100003291, 100001173]</td>\n",
       "    </tr>\n",
       "    <tr>\n",
       "      <th>4</th>\n",
       "      <td>73206</td>\n",
       "      <td>[100016937, 100009234]</td>\n",
       "    </tr>\n",
       "    <tr>\n",
       "      <th>...</th>\n",
       "      <td>...</td>\n",
       "      <td>...</td>\n",
       "    </tr>\n",
       "    <tr>\n",
       "      <th>25129</th>\n",
       "      <td>62072229</td>\n",
       "      <td>[100001246]</td>\n",
       "    </tr>\n",
       "    <tr>\n",
       "      <th>25130</th>\n",
       "      <td>62072244</td>\n",
       "      <td>[100001246]</td>\n",
       "    </tr>\n",
       "    <tr>\n",
       "      <th>25131</th>\n",
       "      <td>62072286</td>\n",
       "      <td>[100022773]</td>\n",
       "    </tr>\n",
       "    <tr>\n",
       "      <th>25132</th>\n",
       "      <td>62072334</td>\n",
       "      <td>[100005041]</td>\n",
       "    </tr>\n",
       "    <tr>\n",
       "      <th>25133</th>\n",
       "      <td>62072382</td>\n",
       "      <td>[100000009]</td>\n",
       "    </tr>\n",
       "  </tbody>\n",
       "</table>\n",
       "<p>25134 rows × 2 columns</p>\n",
       "</div>"
      ],
      "text/plain": [
       "           user                               true\n",
       "0         57141                        [100002475]\n",
       "1         61299                        [100000427]\n",
       "2         64059             [100006888, 100010236]\n",
       "3         65613  [100006556, 100003291, 100001173]\n",
       "4         73206             [100016937, 100009234]\n",
       "...         ...                                ...\n",
       "25129  62072229                        [100001246]\n",
       "25130  62072244                        [100001246]\n",
       "25131  62072286                        [100022773]\n",
       "25132  62072334                        [100005041]\n",
       "25133  62072382                        [100000009]\n",
       "\n",
       "[25134 rows x 2 columns]"
      ]
     },
     "execution_count": 8,
     "metadata": {},
     "output_type": "execute_result"
    }
   ],
   "source": [
    "test_actual_results"
   ]
  },
  {
   "cell_type": "code",
   "execution_count": 9,
   "id": "e3fe26cc",
   "metadata": {},
   "outputs": [],
   "source": [
    "# delete user that have a lot of wrong surveys and surveys that no one can solve"
   ]
  },
  {
   "cell_type": "code",
   "execution_count": 10,
   "id": "3d30e3c3",
   "metadata": {},
   "outputs": [],
   "source": [
    "data_user_status = train.groupby( ['user'] ).agg( { 'status': ['mean', 'count'] }  )\n",
    "data_user_status.columns = ['mean_status' , 'count_status']"
   ]
  },
  {
   "cell_type": "code",
   "execution_count": 15,
   "id": "452a23bc",
   "metadata": {},
   "outputs": [],
   "source": [
    "bad_users = list(data_user_status.loc [(data_user_status['mean_status'] == 0 )& \n",
    "                      (data_user_status['count_status']>100), :].index)"
   ]
  },
  {
   "cell_type": "code",
   "execution_count": null,
   "id": "541a43d2",
   "metadata": {},
   "outputs": [],
   "source": []
  },
  {
   "cell_type": "code",
   "execution_count": 16,
   "id": "25a28516",
   "metadata": {},
   "outputs": [],
   "source": [
    "data_survey_status = data.groupby( ['survey'] ).agg( { 'status': ['mean', 'count'] }  )\n",
    "data_survey_status.columns = ['mean_status' , 'count_status']"
   ]
  },
  {
   "cell_type": "code",
   "execution_count": 17,
   "id": "ba7ac956",
   "metadata": {},
   "outputs": [
    {
     "data": {
      "text/html": [
       "<div>\n",
       "<style scoped>\n",
       "    .dataframe tbody tr th:only-of-type {\n",
       "        vertical-align: middle;\n",
       "    }\n",
       "\n",
       "    .dataframe tbody tr th {\n",
       "        vertical-align: top;\n",
       "    }\n",
       "\n",
       "    .dataframe thead th {\n",
       "        text-align: right;\n",
       "    }\n",
       "</style>\n",
       "<table border=\"1\" class=\"dataframe\">\n",
       "  <thead>\n",
       "    <tr style=\"text-align: right;\">\n",
       "      <th></th>\n",
       "      <th>mean_status</th>\n",
       "      <th>count_status</th>\n",
       "    </tr>\n",
       "    <tr>\n",
       "      <th>survey</th>\n",
       "      <th></th>\n",
       "      <th></th>\n",
       "    </tr>\n",
       "  </thead>\n",
       "  <tbody>\n",
       "    <tr>\n",
       "      <th>100000000</th>\n",
       "      <td>0.000000</td>\n",
       "      <td>12</td>\n",
       "    </tr>\n",
       "    <tr>\n",
       "      <th>100000001</th>\n",
       "      <td>0.000000</td>\n",
       "      <td>18</td>\n",
       "    </tr>\n",
       "    <tr>\n",
       "      <th>100000002</th>\n",
       "      <td>0.112245</td>\n",
       "      <td>98</td>\n",
       "    </tr>\n",
       "    <tr>\n",
       "      <th>100000003</th>\n",
       "      <td>0.125000</td>\n",
       "      <td>152</td>\n",
       "    </tr>\n",
       "    <tr>\n",
       "      <th>100000004</th>\n",
       "      <td>0.247892</td>\n",
       "      <td>593</td>\n",
       "    </tr>\n",
       "    <tr>\n",
       "      <th>...</th>\n",
       "      <td>...</td>\n",
       "      <td>...</td>\n",
       "    </tr>\n",
       "    <tr>\n",
       "      <th>100042440</th>\n",
       "      <td>0.000000</td>\n",
       "      <td>1</td>\n",
       "    </tr>\n",
       "    <tr>\n",
       "      <th>100042441</th>\n",
       "      <td>0.000000</td>\n",
       "      <td>1</td>\n",
       "    </tr>\n",
       "    <tr>\n",
       "      <th>100042442</th>\n",
       "      <td>0.000000</td>\n",
       "      <td>1</td>\n",
       "    </tr>\n",
       "    <tr>\n",
       "      <th>100042443</th>\n",
       "      <td>1.000000</td>\n",
       "      <td>1</td>\n",
       "    </tr>\n",
       "    <tr>\n",
       "      <th>100042444</th>\n",
       "      <td>0.000000</td>\n",
       "      <td>1</td>\n",
       "    </tr>\n",
       "  </tbody>\n",
       "</table>\n",
       "<p>42445 rows × 2 columns</p>\n",
       "</div>"
      ],
      "text/plain": [
       "           mean_status  count_status\n",
       "survey                              \n",
       "100000000     0.000000            12\n",
       "100000001     0.000000            18\n",
       "100000002     0.112245            98\n",
       "100000003     0.125000           152\n",
       "100000004     0.247892           593\n",
       "...                ...           ...\n",
       "100042440     0.000000             1\n",
       "100042441     0.000000             1\n",
       "100042442     0.000000             1\n",
       "100042443     1.000000             1\n",
       "100042444     0.000000             1\n",
       "\n",
       "[42445 rows x 2 columns]"
      ]
     },
     "execution_count": 17,
     "metadata": {},
     "output_type": "execute_result"
    }
   ],
   "source": [
    "data_survey_status"
   ]
  },
  {
   "cell_type": "code",
   "execution_count": 19,
   "id": "aad28773",
   "metadata": {},
   "outputs": [],
   "source": [
    "bad_surveys = list(data_survey_status.loc [(data_survey_status['mean_status'] == 0 )& \n",
    "                      (data_survey_status['count_status']>100), :].index)"
   ]
  },
  {
   "cell_type": "code",
   "execution_count": 21,
   "id": "2cc511fc",
   "metadata": {},
   "outputs": [],
   "source": [
    "train = train.loc[ train['user'].isin(bad_users) == False, :  ]"
   ]
  },
  {
   "cell_type": "code",
   "execution_count": 22,
   "id": "86a1b6cf",
   "metadata": {},
   "outputs": [],
   "source": [
    "train = train.loc[ train['survey'].isin(bad_surveys) == False, :  ]"
   ]
  },
  {
   "cell_type": "code",
   "execution_count": 24,
   "id": "f7382881",
   "metadata": {},
   "outputs": [
    {
     "data": {
      "text/html": [
       "<div>\n",
       "<style scoped>\n",
       "    .dataframe tbody tr th:only-of-type {\n",
       "        vertical-align: middle;\n",
       "    }\n",
       "\n",
       "    .dataframe tbody tr th {\n",
       "        vertical-align: top;\n",
       "    }\n",
       "\n",
       "    .dataframe thead th {\n",
       "        text-align: right;\n",
       "    }\n",
       "</style>\n",
       "<table border=\"1\" class=\"dataframe\">\n",
       "  <thead>\n",
       "    <tr style=\"text-align: right;\">\n",
       "      <th></th>\n",
       "      <th>user</th>\n",
       "      <th>survey</th>\n",
       "      <th>status</th>\n",
       "      <th>date</th>\n",
       "    </tr>\n",
       "  </thead>\n",
       "  <tbody>\n",
       "    <tr>\n",
       "      <th>0</th>\n",
       "      <td>46120029</td>\n",
       "      <td>100000000</td>\n",
       "      <td>0</td>\n",
       "      <td>2020-06-25 16:08:06</td>\n",
       "    </tr>\n",
       "    <tr>\n",
       "      <th>1</th>\n",
       "      <td>61685181</td>\n",
       "      <td>100000001</td>\n",
       "      <td>0</td>\n",
       "      <td>2020-06-24 12:29:43</td>\n",
       "    </tr>\n",
       "    <tr>\n",
       "      <th>2</th>\n",
       "      <td>61900560</td>\n",
       "      <td>100000002</td>\n",
       "      <td>0</td>\n",
       "      <td>2020-06-24 20:35:37</td>\n",
       "    </tr>\n",
       "    <tr>\n",
       "      <th>3</th>\n",
       "      <td>26620554</td>\n",
       "      <td>100000003</td>\n",
       "      <td>0</td>\n",
       "      <td>2020-06-24 22:04:23</td>\n",
       "    </tr>\n",
       "    <tr>\n",
       "      <th>4</th>\n",
       "      <td>61973223</td>\n",
       "      <td>100000004</td>\n",
       "      <td>1</td>\n",
       "      <td>2020-06-25 15:15:02</td>\n",
       "    </tr>\n",
       "    <tr>\n",
       "      <th>...</th>\n",
       "      <td>...</td>\n",
       "      <td>...</td>\n",
       "      <td>...</td>\n",
       "      <td>...</td>\n",
       "    </tr>\n",
       "    <tr>\n",
       "      <th>873900</th>\n",
       "      <td>62031414</td>\n",
       "      <td>100002347</td>\n",
       "      <td>0</td>\n",
       "      <td>2020-06-26 23:42:15</td>\n",
       "    </tr>\n",
       "    <tr>\n",
       "      <th>873901</th>\n",
       "      <td>35385993</td>\n",
       "      <td>100000026</td>\n",
       "      <td>0</td>\n",
       "      <td>2020-06-26 23:15:44</td>\n",
       "    </tr>\n",
       "    <tr>\n",
       "      <th>873903</th>\n",
       "      <td>43229514</td>\n",
       "      <td>100000206</td>\n",
       "      <td>0</td>\n",
       "      <td>2020-06-26 22:26:04</td>\n",
       "    </tr>\n",
       "    <tr>\n",
       "      <th>873904</th>\n",
       "      <td>62010381</td>\n",
       "      <td>100002446</td>\n",
       "      <td>1</td>\n",
       "      <td>2020-06-26 23:24:56</td>\n",
       "    </tr>\n",
       "    <tr>\n",
       "      <th>873905</th>\n",
       "      <td>29096163</td>\n",
       "      <td>100000385</td>\n",
       "      <td>1</td>\n",
       "      <td>2020-06-26 20:36:46</td>\n",
       "    </tr>\n",
       "  </tbody>\n",
       "</table>\n",
       "<p>819562 rows × 4 columns</p>\n",
       "</div>"
      ],
      "text/plain": [
       "            user     survey  status                date\n",
       "0       46120029  100000000       0 2020-06-25 16:08:06\n",
       "1       61685181  100000001       0 2020-06-24 12:29:43\n",
       "2       61900560  100000002       0 2020-06-24 20:35:37\n",
       "3       26620554  100000003       0 2020-06-24 22:04:23\n",
       "4       61973223  100000004       1 2020-06-25 15:15:02\n",
       "...          ...        ...     ...                 ...\n",
       "873900  62031414  100002347       0 2020-06-26 23:42:15\n",
       "873901  35385993  100000026       0 2020-06-26 23:15:44\n",
       "873903  43229514  100000206       0 2020-06-26 22:26:04\n",
       "873904  62010381  100002446       1 2020-06-26 23:24:56\n",
       "873905  29096163  100000385       1 2020-06-26 20:36:46\n",
       "\n",
       "[819562 rows x 4 columns]"
      ]
     },
     "execution_count": 24,
     "metadata": {},
     "output_type": "execute_result"
    }
   ],
   "source": [
    "#train after filtration\n",
    "train"
   ]
  },
  {
   "cell_type": "code",
   "execution_count": 25,
   "id": "6ff9e187",
   "metadata": {},
   "outputs": [],
   "source": [
    "previously_seen_items = train.groupby(['user'])['survey'].apply( lambda x: list(x)).to_dict()"
   ]
  },
  {
   "cell_type": "code",
   "execution_count": 26,
   "id": "9fc06f39",
   "metadata": {},
   "outputs": [],
   "source": [
    "train = train.loc[train['status'] ==1, :]"
   ]
  },
  {
   "cell_type": "code",
   "execution_count": 27,
   "id": "36958405",
   "metadata": {},
   "outputs": [],
   "source": [
    "train_matrix, user_id_cats, survey_id_cats= pd_to_scr_matrix(train)"
   ]
  },
  {
   "cell_type": "code",
   "execution_count": 28,
   "id": "33215856",
   "metadata": {},
   "outputs": [
    {
     "data": {
      "text/plain": [
       "<38275x13166 sparse matrix of type '<class 'numpy.int64'>'\n",
       "\twith 138362 stored elements in Compressed Sparse Row format>"
      ]
     },
     "execution_count": 28,
     "metadata": {},
     "output_type": "execute_result"
    }
   ],
   "source": [
    "train_matrix"
   ]
  },
  {
   "cell_type": "code",
   "execution_count": 29,
   "id": "da763a58",
   "metadata": {},
   "outputs": [
    {
     "data": {
      "text/plain": [
       "CategoricalDtype(categories=[   57141,    61299,    63513,    64407,    65613,    66771,\n",
       "                     73206,    73368,    73734,    83121,\n",
       "                  ...\n",
       "                  62031813, 62031843, 62031858, 62031876, 62031939, 62032119,\n",
       "                  62032227, 62032293, 62032341, 62032347],\n",
       ", ordered=True)"
      ]
     },
     "execution_count": 29,
     "metadata": {},
     "output_type": "execute_result"
    }
   ],
   "source": [
    "user_id_cats"
   ]
  },
  {
   "cell_type": "code",
   "execution_count": 30,
   "id": "b5065ff9",
   "metadata": {},
   "outputs": [
    {
     "data": {
      "text/plain": [
       "CategoricalDtype(categories=[100000002, 100000003, 100000004, 100000005, 100000006,\n",
       "                  100000007, 100000008, 100000009, 100000010, 100000011,\n",
       "                  ...\n",
       "                  100042350, 100042351, 100042354, 100042363, 100042364,\n",
       "                  100042371, 100042374, 100042380, 100042381, 100042425],\n",
       ", ordered=True)"
      ]
     },
     "execution_count": 30,
     "metadata": {},
     "output_type": "execute_result"
    }
   ],
   "source": [
    "survey_id_cats"
   ]
  },
  {
   "cell_type": "code",
   "execution_count": 31,
   "id": "7f8b200a",
   "metadata": {},
   "outputs": [],
   "source": [
    "#use lightfm\n",
    "model = LightFM(loss='warp')"
   ]
  },
  {
   "cell_type": "code",
   "execution_count": 32,
   "id": "5605a736",
   "metadata": {},
   "outputs": [
    {
     "data": {
      "text/plain": [
       "<lightfm.lightfm.LightFM at 0x7f7baddaf2b0>"
      ]
     },
     "execution_count": 32,
     "metadata": {},
     "output_type": "execute_result"
    }
   ],
   "source": [
    "model.fit(train_matrix, epochs=30)"
   ]
  },
  {
   "cell_type": "code",
   "execution_count": 33,
   "id": "02ed77c4",
   "metadata": {},
   "outputs": [],
   "source": [
    "n_users, n_items = train_matrix.shape"
   ]
  },
  {
   "cell_type": "code",
   "execution_count": 34,
   "id": "a29f4f75",
   "metadata": {},
   "outputs": [
    {
     "name": "stdout",
     "output_type": "stream",
     "text": [
      "38275 13166\n"
     ]
    }
   ],
   "source": [
    "print(n_users, n_items)"
   ]
  },
  {
   "cell_type": "code",
   "execution_count": 35,
   "id": "a58937a6",
   "metadata": {},
   "outputs": [],
   "source": [
    "def mp_predict_with_seen(data, k=3):\n",
    "    \"\"\"\n",
    "    make predictions using multiprocessing. delete already seen items\n",
    "    \"\"\"\n",
    "    user_id, previous_items = data\n",
    "    scores = model.predict(user_id, np.arange(n_items))\n",
    "    top_items = list(survey_id_cats.categories[np.argsort(-scores)])\n",
    "    top_items =  [item for item in top_items if item not in previous_items]\n",
    "    return top_items[:k]\n"
   ]
  },
  {
   "cell_type": "code",
   "execution_count": 36,
   "id": "f6227adf",
   "metadata": {},
   "outputs": [],
   "source": [
    "# data with user and his previous items \n",
    "user_id_previously_seen_items= defaultdict(list)\n",
    "for i, user in enumerate(user_id_cats.categories):\n",
    "    user_id_previously_seen_items[i] = previously_seen_items.get(user, []  )\n",
    "x= list(zip(list( range(n_users )), [user_id_previously_seen_items[i] for i in range(n_users)] ))"
   ]
  },
  {
   "cell_type": "code",
   "execution_count": 37,
   "id": "57c766be",
   "metadata": {},
   "outputs": [],
   "source": [
    "# make prediction for all users in train dataset\n",
    "pool = mp.Pool(NUM_CORE)\n",
    "list_of_results_seen = pool.map(mp_predict_with_seen, x )\n",
    "pool.close()\n",
    "pool.join()"
   ]
  },
  {
   "cell_type": "code",
   "execution_count": 38,
   "id": "20a233ca",
   "metadata": {},
   "outputs": [
    {
     "data": {
      "text/plain": [
       "[[100000482, 100000408, 100000630],\n",
       " [100000009, 100000616, 100000442],\n",
       " [100001892, 100000513, 100001727],\n",
       " [100001892, 100000385, 100000079],\n",
       " [100000513, 100000017, 100000135]]"
      ]
     },
     "execution_count": 38,
     "metadata": {},
     "output_type": "execute_result"
    }
   ],
   "source": [
    "list_of_results_seen[0:5]"
   ]
  },
  {
   "cell_type": "code",
   "execution_count": 39,
   "id": "2959b838",
   "metadata": {},
   "outputs": [],
   "source": [
    "predictions = pd.DataFrame( user_id_cats.categories )\n",
    "predictions.columns  = ['user']\n",
    "predictions['predicted'] = list_of_results_seen"
   ]
  },
  {
   "cell_type": "code",
   "execution_count": 40,
   "id": "c4825245",
   "metadata": {},
   "outputs": [
    {
     "data": {
      "text/html": [
       "<div>\n",
       "<style scoped>\n",
       "    .dataframe tbody tr th:only-of-type {\n",
       "        vertical-align: middle;\n",
       "    }\n",
       "\n",
       "    .dataframe tbody tr th {\n",
       "        vertical-align: top;\n",
       "    }\n",
       "\n",
       "    .dataframe thead th {\n",
       "        text-align: right;\n",
       "    }\n",
       "</style>\n",
       "<table border=\"1\" class=\"dataframe\">\n",
       "  <thead>\n",
       "    <tr style=\"text-align: right;\">\n",
       "      <th></th>\n",
       "      <th>user</th>\n",
       "      <th>predicted</th>\n",
       "    </tr>\n",
       "  </thead>\n",
       "  <tbody>\n",
       "    <tr>\n",
       "      <th>0</th>\n",
       "      <td>57141</td>\n",
       "      <td>[100000482, 100000408, 100000630]</td>\n",
       "    </tr>\n",
       "    <tr>\n",
       "      <th>1</th>\n",
       "      <td>61299</td>\n",
       "      <td>[100000009, 100000616, 100000442]</td>\n",
       "    </tr>\n",
       "    <tr>\n",
       "      <th>2</th>\n",
       "      <td>63513</td>\n",
       "      <td>[100001892, 100000513, 100001727]</td>\n",
       "    </tr>\n",
       "    <tr>\n",
       "      <th>3</th>\n",
       "      <td>64407</td>\n",
       "      <td>[100001892, 100000385, 100000079]</td>\n",
       "    </tr>\n",
       "    <tr>\n",
       "      <th>4</th>\n",
       "      <td>65613</td>\n",
       "      <td>[100000513, 100000017, 100000135]</td>\n",
       "    </tr>\n",
       "    <tr>\n",
       "      <th>...</th>\n",
       "      <td>...</td>\n",
       "      <td>...</td>\n",
       "    </tr>\n",
       "    <tr>\n",
       "      <th>38270</th>\n",
       "      <td>62032119</td>\n",
       "      <td>[100000307, 100000114, 100000513]</td>\n",
       "    </tr>\n",
       "    <tr>\n",
       "      <th>38271</th>\n",
       "      <td>62032227</td>\n",
       "      <td>[100000513, 100001524, 100000690]</td>\n",
       "    </tr>\n",
       "    <tr>\n",
       "      <th>38272</th>\n",
       "      <td>62032293</td>\n",
       "      <td>[100000017, 100000726, 100000513]</td>\n",
       "    </tr>\n",
       "    <tr>\n",
       "      <th>38273</th>\n",
       "      <td>62032341</td>\n",
       "      <td>[100002534, 100003193, 100000017]</td>\n",
       "    </tr>\n",
       "    <tr>\n",
       "      <th>38274</th>\n",
       "      <td>62032347</td>\n",
       "      <td>[100000513, 100000794, 100001266]</td>\n",
       "    </tr>\n",
       "  </tbody>\n",
       "</table>\n",
       "<p>38275 rows × 2 columns</p>\n",
       "</div>"
      ],
      "text/plain": [
       "           user                          predicted\n",
       "0         57141  [100000482, 100000408, 100000630]\n",
       "1         61299  [100000009, 100000616, 100000442]\n",
       "2         63513  [100001892, 100000513, 100001727]\n",
       "3         64407  [100001892, 100000385, 100000079]\n",
       "4         65613  [100000513, 100000017, 100000135]\n",
       "...         ...                                ...\n",
       "38270  62032119  [100000307, 100000114, 100000513]\n",
       "38271  62032227  [100000513, 100001524, 100000690]\n",
       "38272  62032293  [100000017, 100000726, 100000513]\n",
       "38273  62032341  [100002534, 100003193, 100000017]\n",
       "38274  62032347  [100000513, 100000794, 100001266]\n",
       "\n",
       "[38275 rows x 2 columns]"
      ]
     },
     "execution_count": 40,
     "metadata": {},
     "output_type": "execute_result"
    }
   ],
   "source": [
    "predictions"
   ]
  },
  {
   "cell_type": "code",
   "execution_count": 41,
   "id": "0704b55e",
   "metadata": {},
   "outputs": [],
   "source": [
    "test_actual_results = pd.merge(test_actual_results, predictions, how= 'left', on = 'user')"
   ]
  },
  {
   "cell_type": "code",
   "execution_count": 42,
   "id": "32a9a306",
   "metadata": {},
   "outputs": [
    {
     "data": {
      "text/html": [
       "<div>\n",
       "<style scoped>\n",
       "    .dataframe tbody tr th:only-of-type {\n",
       "        vertical-align: middle;\n",
       "    }\n",
       "\n",
       "    .dataframe tbody tr th {\n",
       "        vertical-align: top;\n",
       "    }\n",
       "\n",
       "    .dataframe thead th {\n",
       "        text-align: right;\n",
       "    }\n",
       "</style>\n",
       "<table border=\"1\" class=\"dataframe\">\n",
       "  <thead>\n",
       "    <tr style=\"text-align: right;\">\n",
       "      <th></th>\n",
       "      <th>user</th>\n",
       "      <th>true</th>\n",
       "      <th>predicted</th>\n",
       "    </tr>\n",
       "  </thead>\n",
       "  <tbody>\n",
       "    <tr>\n",
       "      <th>0</th>\n",
       "      <td>57141</td>\n",
       "      <td>[100002475]</td>\n",
       "      <td>[100000482, 100000408, 100000630]</td>\n",
       "    </tr>\n",
       "    <tr>\n",
       "      <th>1</th>\n",
       "      <td>61299</td>\n",
       "      <td>[100000427]</td>\n",
       "      <td>[100000009, 100000616, 100000442]</td>\n",
       "    </tr>\n",
       "    <tr>\n",
       "      <th>2</th>\n",
       "      <td>64059</td>\n",
       "      <td>[100006888, 100010236]</td>\n",
       "      <td>NaN</td>\n",
       "    </tr>\n",
       "    <tr>\n",
       "      <th>3</th>\n",
       "      <td>65613</td>\n",
       "      <td>[100006556, 100003291, 100001173]</td>\n",
       "      <td>[100000513, 100000017, 100000135]</td>\n",
       "    </tr>\n",
       "    <tr>\n",
       "      <th>4</th>\n",
       "      <td>73206</td>\n",
       "      <td>[100016937, 100009234]</td>\n",
       "      <td>[100000482, 100000408, 100002534]</td>\n",
       "    </tr>\n",
       "    <tr>\n",
       "      <th>...</th>\n",
       "      <td>...</td>\n",
       "      <td>...</td>\n",
       "      <td>...</td>\n",
       "    </tr>\n",
       "    <tr>\n",
       "      <th>25129</th>\n",
       "      <td>62072229</td>\n",
       "      <td>[100001246]</td>\n",
       "      <td>NaN</td>\n",
       "    </tr>\n",
       "    <tr>\n",
       "      <th>25130</th>\n",
       "      <td>62072244</td>\n",
       "      <td>[100001246]</td>\n",
       "      <td>NaN</td>\n",
       "    </tr>\n",
       "    <tr>\n",
       "      <th>25131</th>\n",
       "      <td>62072286</td>\n",
       "      <td>[100022773]</td>\n",
       "      <td>NaN</td>\n",
       "    </tr>\n",
       "    <tr>\n",
       "      <th>25132</th>\n",
       "      <td>62072334</td>\n",
       "      <td>[100005041]</td>\n",
       "      <td>NaN</td>\n",
       "    </tr>\n",
       "    <tr>\n",
       "      <th>25133</th>\n",
       "      <td>62072382</td>\n",
       "      <td>[100000009]</td>\n",
       "      <td>NaN</td>\n",
       "    </tr>\n",
       "  </tbody>\n",
       "</table>\n",
       "<p>25134 rows × 3 columns</p>\n",
       "</div>"
      ],
      "text/plain": [
       "           user                               true  \\\n",
       "0         57141                        [100002475]   \n",
       "1         61299                        [100000427]   \n",
       "2         64059             [100006888, 100010236]   \n",
       "3         65613  [100006556, 100003291, 100001173]   \n",
       "4         73206             [100016937, 100009234]   \n",
       "...         ...                                ...   \n",
       "25129  62072229                        [100001246]   \n",
       "25130  62072244                        [100001246]   \n",
       "25131  62072286                        [100022773]   \n",
       "25132  62072334                        [100005041]   \n",
       "25133  62072382                        [100000009]   \n",
       "\n",
       "                               predicted  \n",
       "0      [100000482, 100000408, 100000630]  \n",
       "1      [100000009, 100000616, 100000442]  \n",
       "2                                    NaN  \n",
       "3      [100000513, 100000017, 100000135]  \n",
       "4      [100000482, 100000408, 100002534]  \n",
       "...                                  ...  \n",
       "25129                                NaN  \n",
       "25130                                NaN  \n",
       "25131                                NaN  \n",
       "25132                                NaN  \n",
       "25133                                NaN  \n",
       "\n",
       "[25134 rows x 3 columns]"
      ]
     },
     "execution_count": 42,
     "metadata": {},
     "output_type": "execute_result"
    }
   ],
   "source": [
    "test_actual_results"
   ]
  },
  {
   "cell_type": "markdown",
   "id": "9aa89f82",
   "metadata": {},
   "source": [
    "### look at metics for non cold start predictions"
   ]
  },
  {
   "cell_type": "code",
   "execution_count": 43,
   "id": "54bb6c68",
   "metadata": {},
   "outputs": [],
   "source": [
    "only_lfm_mapk = mapk( test_actual_results.loc[ test_actual_results['predicted'].notna() , 'true'], \n",
    "                     test_actual_results.loc[  test_actual_results['predicted'].notna() ,'predicted'] , k =3)\n",
    "\n",
    "\n",
    "only_lfm_precision_at_k = np.mean(test_actual_results.loc[  test_actual_results['predicted'].notna() ,:] .apply( lambda x: precision_at_k(x ['true'],\n",
    "                                                                                 x['predicted'], k= 3 )  , axis=1))\n",
    "\n",
    "only_lfm_recall_at_k = np.mean(test_actual_results.loc[  test_actual_results['predicted'].notna() ,:].apply( lambda x: recall_at_k(x ['true'],\n",
    "                                                                                 x['predicted'], k= 3 )  , axis=1))"
   ]
  },
  {
   "cell_type": "code",
   "execution_count": 44,
   "id": "c92f2ea2",
   "metadata": {},
   "outputs": [
    {
     "name": "stdout",
     "output_type": "stream",
     "text": [
      "only lightfm map@k = 0.00448 \n",
      "only lightfm precision@k = 0.00423\n",
      "only lightfm recall@k = 0.00582\n"
     ]
    }
   ],
   "source": [
    "print(f'only lightfm map@k = {only_lfm_mapk:.5f} ')\n",
    "print(f'only lightfm precision@k = {only_lfm_precision_at_k:.5f}')\n",
    "print(f'only lightfm recall@k = {only_lfm_recall_at_k:.5f}')"
   ]
  },
  {
   "cell_type": "raw",
   "id": "7c99814c",
   "metadata": {},
   "source": [
    "slightly improve previous results\n",
    "# only lightfm map@k = 0.00361 \n",
    "# only lightfm precision@k = 0.00390\n",
    "# only lightfm recall@k = 0.00500"
   ]
  },
  {
   "cell_type": "code",
   "execution_count": 45,
   "id": "a346ba22",
   "metadata": {},
   "outputs": [
    {
     "data": {
      "text/plain": [
       "0.37363730405029044"
      ]
     },
     "execution_count": 45,
     "metadata": {},
     "output_type": "execute_result"
    }
   ],
   "source": [
    "test_actual_results['predicted'].isna().mean()"
   ]
  },
  {
   "cell_type": "markdown",
   "id": "b023ee8d",
   "metadata": {},
   "source": [
    "## We have no train data and prediction for 37% of test and will use mostpopular baseline for them"
   ]
  },
  {
   "cell_type": "code",
   "execution_count": 46,
   "id": "67768db8",
   "metadata": {},
   "outputs": [],
   "source": [
    "test_actual_results.loc[test_actual_results['predicted'].isna(), 'predicted' ] = test_actual_results.loc[test_actual_results['predicted'].isna(), 'predicted' ].apply(lambda x: x if x==np.nan  else most_popular_items)\n"
   ]
  },
  {
   "cell_type": "code",
   "execution_count": 47,
   "id": "aa3133aa",
   "metadata": {},
   "outputs": [],
   "source": [
    "lfm_mapk = mapk( test_actual_results['true'], test_actual_results['predicted'] , k =3)\n",
    "lfm_precision_at_k = np.mean(test_actual_results.apply( lambda x: precision_at_k(x ['true'],\n",
    "                                                                                 x['predicted'], k= 3 )  , axis=1))\n",
    "\n",
    "lfm_recall_at_k = np.mean(test_actual_results.apply( lambda x: recall_at_k(x ['true'],\n",
    "                                                                                 x['predicted'], k= 3 )  , axis=1))"
   ]
  },
  {
   "cell_type": "code",
   "execution_count": 48,
   "id": "5bb545cc",
   "metadata": {},
   "outputs": [
    {
     "name": "stdout",
     "output_type": "stream",
     "text": [
      "lightfm map@k = 0.00288 \n",
      "lightfm precision@k = 0.00276\n",
      "lightfm recall@k = 0.00382\n"
     ]
    }
   ],
   "source": [
    "print(f'lightfm map@k = {lfm_mapk:.5f} ')\n",
    "print(f'lightfm precision@k = {lfm_precision_at_k:.5f}')\n",
    "print(f'lightfm recall@k = {lfm_recall_at_k:.5f}')"
   ]
  },
  {
   "cell_type": "markdown",
   "id": "6d23150e",
   "metadata": {},
   "source": [
    "# we significantly improve baseline:\n",
    "* baseline map@k = 0.00019 \n",
    "* baseline precision@k = 0.00024\n",
    "* baseline recall@k = 0.00040"
   ]
  }
 ],
 "metadata": {
  "kernelspec": {
   "display_name": "Python 3 (ipykernel)",
   "language": "python",
   "name": "python3"
  },
  "language_info": {
   "codemirror_mode": {
    "name": "ipython",
    "version": 3
   },
   "file_extension": ".py",
   "mimetype": "text/x-python",
   "name": "python",
   "nbconvert_exporter": "python",
   "pygments_lexer": "ipython3",
   "version": "3.8.10"
  }
 },
 "nbformat": 4,
 "nbformat_minor": 5
}
