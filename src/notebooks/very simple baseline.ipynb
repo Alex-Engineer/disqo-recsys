{
 "cells": [
  {
   "cell_type": "markdown",
   "id": "9af4faad",
   "metadata": {},
   "source": [
    "# Very simple baseline\n",
    "Use the most populat items as a baseline prediction. This is a very, very simple baseline to check our future results"
   ]
  },
  {
   "cell_type": "code",
   "execution_count": 7,
   "id": "7d163133",
   "metadata": {},
   "outputs": [],
   "source": [
    "import pandas as pd\n",
    "import numpy as np\n",
    "import sys\n",
    "sys.path.append('..')\n",
    "from metrics import apk, mapk, precision_at_k, recall_at_k\n",
    "from utils import get_train_test_data_split, pd_to_scr_matrix"
   ]
  },
  {
   "cell_type": "code",
   "execution_count": 8,
   "id": "9d0a3851",
   "metadata": {},
   "outputs": [],
   "source": [
    "data = pd.read_csv('../../data/recsys_data.csv')\n",
    "data['date'] =pd.to_datetime(data['date'])"
   ]
  },
  {
   "cell_type": "code",
   "execution_count": 10,
   "id": "636a08df",
   "metadata": {},
   "outputs": [],
   "source": [
    "train, test  = get_train_test_data_split(data, val_start = pd.Timestamp('2020-06-27 00:00:00'), test_days= 1 )"
   ]
  },
  {
   "cell_type": "code",
   "execution_count": 12,
   "id": "876445bd",
   "metadata": {},
   "outputs": [
    {
     "data": {
      "text/html": [
       "<div>\n",
       "<style scoped>\n",
       "    .dataframe tbody tr th:only-of-type {\n",
       "        vertical-align: middle;\n",
       "    }\n",
       "\n",
       "    .dataframe tbody tr th {\n",
       "        vertical-align: top;\n",
       "    }\n",
       "\n",
       "    .dataframe thead th {\n",
       "        text-align: right;\n",
       "    }\n",
       "</style>\n",
       "<table border=\"1\" class=\"dataframe\">\n",
       "  <thead>\n",
       "    <tr style=\"text-align: right;\">\n",
       "      <th></th>\n",
       "      <th>user</th>\n",
       "      <th>survey</th>\n",
       "      <th>status</th>\n",
       "      <th>date</th>\n",
       "    </tr>\n",
       "  </thead>\n",
       "  <tbody>\n",
       "    <tr>\n",
       "      <th>0</th>\n",
       "      <td>46120029</td>\n",
       "      <td>100000000</td>\n",
       "      <td>0</td>\n",
       "      <td>2020-06-25 16:08:06</td>\n",
       "    </tr>\n",
       "    <tr>\n",
       "      <th>1</th>\n",
       "      <td>61685181</td>\n",
       "      <td>100000001</td>\n",
       "      <td>0</td>\n",
       "      <td>2020-06-24 12:29:43</td>\n",
       "    </tr>\n",
       "    <tr>\n",
       "      <th>2</th>\n",
       "      <td>61900560</td>\n",
       "      <td>100000002</td>\n",
       "      <td>0</td>\n",
       "      <td>2020-06-24 20:35:37</td>\n",
       "    </tr>\n",
       "    <tr>\n",
       "      <th>3</th>\n",
       "      <td>26620554</td>\n",
       "      <td>100000003</td>\n",
       "      <td>0</td>\n",
       "      <td>2020-06-24 22:04:23</td>\n",
       "    </tr>\n",
       "    <tr>\n",
       "      <th>4</th>\n",
       "      <td>61973223</td>\n",
       "      <td>100000004</td>\n",
       "      <td>1</td>\n",
       "      <td>2020-06-25 15:15:02</td>\n",
       "    </tr>\n",
       "  </tbody>\n",
       "</table>\n",
       "</div>"
      ],
      "text/plain": [
       "       user     survey  status                date\n",
       "0  46120029  100000000       0 2020-06-25 16:08:06\n",
       "1  61685181  100000001       0 2020-06-24 12:29:43\n",
       "2  61900560  100000002       0 2020-06-24 20:35:37\n",
       "3  26620554  100000003       0 2020-06-24 22:04:23\n",
       "4  61973223  100000004       1 2020-06-25 15:15:02"
      ]
     },
     "execution_count": 12,
     "metadata": {},
     "output_type": "execute_result"
    }
   ],
   "source": [
    "train.head()"
   ]
  },
  {
   "cell_type": "code",
   "execution_count": 13,
   "id": "cf447dac",
   "metadata": {},
   "outputs": [
    {
     "data": {
      "text/html": [
       "<div>\n",
       "<style scoped>\n",
       "    .dataframe tbody tr th:only-of-type {\n",
       "        vertical-align: middle;\n",
       "    }\n",
       "\n",
       "    .dataframe tbody tr th {\n",
       "        vertical-align: top;\n",
       "    }\n",
       "\n",
       "    .dataframe thead th {\n",
       "        text-align: right;\n",
       "    }\n",
       "</style>\n",
       "<table border=\"1\" class=\"dataframe\">\n",
       "  <thead>\n",
       "    <tr style=\"text-align: right;\">\n",
       "      <th></th>\n",
       "      <th>user</th>\n",
       "      <th>survey</th>\n",
       "      <th>status</th>\n",
       "      <th>date</th>\n",
       "    </tr>\n",
       "  </thead>\n",
       "  <tbody>\n",
       "    <tr>\n",
       "      <th>36</th>\n",
       "      <td>60418941</td>\n",
       "      <td>100000035</td>\n",
       "      <td>0</td>\n",
       "      <td>2020-06-27 07:50:34</td>\n",
       "    </tr>\n",
       "    <tr>\n",
       "      <th>45</th>\n",
       "      <td>59028870</td>\n",
       "      <td>100000043</td>\n",
       "      <td>1</td>\n",
       "      <td>2020-06-27 00:41:32</td>\n",
       "    </tr>\n",
       "    <tr>\n",
       "      <th>80</th>\n",
       "      <td>51417258</td>\n",
       "      <td>100000074</td>\n",
       "      <td>0</td>\n",
       "      <td>2020-06-27 16:22:26</td>\n",
       "    </tr>\n",
       "    <tr>\n",
       "      <th>93</th>\n",
       "      <td>61203012</td>\n",
       "      <td>100000086</td>\n",
       "      <td>0</td>\n",
       "      <td>2020-06-27 11:31:07</td>\n",
       "    </tr>\n",
       "    <tr>\n",
       "      <th>94</th>\n",
       "      <td>56308842</td>\n",
       "      <td>100000087</td>\n",
       "      <td>0</td>\n",
       "      <td>2020-06-27 12:12:02</td>\n",
       "    </tr>\n",
       "  </tbody>\n",
       "</table>\n",
       "</div>"
      ],
      "text/plain": [
       "        user     survey  status                date\n",
       "36  60418941  100000035       0 2020-06-27 07:50:34\n",
       "45  59028870  100000043       1 2020-06-27 00:41:32\n",
       "80  51417258  100000074       0 2020-06-27 16:22:26\n",
       "93  61203012  100000086       0 2020-06-27 11:31:07\n",
       "94  56308842  100000087       0 2020-06-27 12:12:02"
      ]
     },
     "execution_count": 13,
     "metadata": {},
     "output_type": "execute_result"
    }
   ],
   "source": [
    "test.head()"
   ]
  },
  {
   "cell_type": "code",
   "execution_count": 46,
   "id": "21d8c5c5",
   "metadata": {},
   "outputs": [
    {
     "data": {
      "text/plain": [
       "100000513    1125\n",
       "100000017    1068\n",
       "100000040     886\n",
       "100000079     694\n",
       "100000385     667\n",
       "             ... \n",
       "100022408       1\n",
       "100003151       1\n",
       "100004528       1\n",
       "100008039       1\n",
       "100042425       1\n",
       "Name: survey, Length: 13166, dtype: int64"
      ]
     },
     "execution_count": 46,
     "metadata": {},
     "output_type": "execute_result"
    }
   ],
   "source": [
    "train.loc[train['status']==1, 'survey'].value_counts()"
   ]
  },
  {
   "cell_type": "code",
   "execution_count": 19,
   "id": "d4da11f4",
   "metadata": {},
   "outputs": [],
   "source": [
    "most_popular_items = list(train.loc[train['status']==1, 'survey'].value_counts().index[0:3])"
   ]
  },
  {
   "cell_type": "code",
   "execution_count": 20,
   "id": "68be6b15",
   "metadata": {},
   "outputs": [
    {
     "data": {
      "text/plain": [
       "[100000513, 100000017, 100000040]"
      ]
     },
     "execution_count": 20,
     "metadata": {},
     "output_type": "execute_result"
    }
   ],
   "source": [
    "most_popular_items"
   ]
  },
  {
   "cell_type": "code",
   "execution_count": 30,
   "id": "a6c415f7",
   "metadata": {},
   "outputs": [],
   "source": [
    "actual_results = test.loc[ test['status']==1, \n",
    "                         :].groupby( ['user'] ).apply(  lambda x: list( x['survey']) ).reset_index()\n",
    "\n",
    "actual_results.columns = ['user', 'true']"
   ]
  },
  {
   "cell_type": "code",
   "execution_count": 31,
   "id": "b871cfa7",
   "metadata": {},
   "outputs": [
    {
     "data": {
      "text/html": [
       "<div>\n",
       "<style scoped>\n",
       "    .dataframe tbody tr th:only-of-type {\n",
       "        vertical-align: middle;\n",
       "    }\n",
       "\n",
       "    .dataframe tbody tr th {\n",
       "        vertical-align: top;\n",
       "    }\n",
       "\n",
       "    .dataframe thead th {\n",
       "        text-align: right;\n",
       "    }\n",
       "</style>\n",
       "<table border=\"1\" class=\"dataframe\">\n",
       "  <thead>\n",
       "    <tr style=\"text-align: right;\">\n",
       "      <th></th>\n",
       "      <th>user</th>\n",
       "      <th>true</th>\n",
       "    </tr>\n",
       "  </thead>\n",
       "  <tbody>\n",
       "    <tr>\n",
       "      <th>0</th>\n",
       "      <td>57141</td>\n",
       "      <td>[100002475]</td>\n",
       "    </tr>\n",
       "    <tr>\n",
       "      <th>1</th>\n",
       "      <td>61299</td>\n",
       "      <td>[100000427]</td>\n",
       "    </tr>\n",
       "    <tr>\n",
       "      <th>2</th>\n",
       "      <td>64059</td>\n",
       "      <td>[100006888, 100010236]</td>\n",
       "    </tr>\n",
       "    <tr>\n",
       "      <th>3</th>\n",
       "      <td>65613</td>\n",
       "      <td>[100006556, 100003291, 100001173]</td>\n",
       "    </tr>\n",
       "    <tr>\n",
       "      <th>4</th>\n",
       "      <td>73206</td>\n",
       "      <td>[100016937, 100009234]</td>\n",
       "    </tr>\n",
       "    <tr>\n",
       "      <th>...</th>\n",
       "      <td>...</td>\n",
       "      <td>...</td>\n",
       "    </tr>\n",
       "    <tr>\n",
       "      <th>25129</th>\n",
       "      <td>62072229</td>\n",
       "      <td>[100001246]</td>\n",
       "    </tr>\n",
       "    <tr>\n",
       "      <th>25130</th>\n",
       "      <td>62072244</td>\n",
       "      <td>[100001246]</td>\n",
       "    </tr>\n",
       "    <tr>\n",
       "      <th>25131</th>\n",
       "      <td>62072286</td>\n",
       "      <td>[100022773]</td>\n",
       "    </tr>\n",
       "    <tr>\n",
       "      <th>25132</th>\n",
       "      <td>62072334</td>\n",
       "      <td>[100005041]</td>\n",
       "    </tr>\n",
       "    <tr>\n",
       "      <th>25133</th>\n",
       "      <td>62072382</td>\n",
       "      <td>[100000009]</td>\n",
       "    </tr>\n",
       "  </tbody>\n",
       "</table>\n",
       "<p>25134 rows × 2 columns</p>\n",
       "</div>"
      ],
      "text/plain": [
       "           user                               true\n",
       "0         57141                        [100002475]\n",
       "1         61299                        [100000427]\n",
       "2         64059             [100006888, 100010236]\n",
       "3         65613  [100006556, 100003291, 100001173]\n",
       "4         73206             [100016937, 100009234]\n",
       "...         ...                                ...\n",
       "25129  62072229                        [100001246]\n",
       "25130  62072244                        [100001246]\n",
       "25131  62072286                        [100022773]\n",
       "25132  62072334                        [100005041]\n",
       "25133  62072382                        [100000009]\n",
       "\n",
       "[25134 rows x 2 columns]"
      ]
     },
     "execution_count": 31,
     "metadata": {},
     "output_type": "execute_result"
    }
   ],
   "source": [
    "actual_results"
   ]
  },
  {
   "cell_type": "code",
   "execution_count": 35,
   "id": "3d9be112",
   "metadata": {},
   "outputs": [],
   "source": [
    "actual_results['predicted'] = [most_popular_items]*len(actual_results)"
   ]
  },
  {
   "cell_type": "code",
   "execution_count": 36,
   "id": "a1a7806a",
   "metadata": {},
   "outputs": [
    {
     "data": {
      "text/html": [
       "<div>\n",
       "<style scoped>\n",
       "    .dataframe tbody tr th:only-of-type {\n",
       "        vertical-align: middle;\n",
       "    }\n",
       "\n",
       "    .dataframe tbody tr th {\n",
       "        vertical-align: top;\n",
       "    }\n",
       "\n",
       "    .dataframe thead th {\n",
       "        text-align: right;\n",
       "    }\n",
       "</style>\n",
       "<table border=\"1\" class=\"dataframe\">\n",
       "  <thead>\n",
       "    <tr style=\"text-align: right;\">\n",
       "      <th></th>\n",
       "      <th>user</th>\n",
       "      <th>true</th>\n",
       "      <th>predicted</th>\n",
       "    </tr>\n",
       "  </thead>\n",
       "  <tbody>\n",
       "    <tr>\n",
       "      <th>0</th>\n",
       "      <td>57141</td>\n",
       "      <td>[100002475]</td>\n",
       "      <td>[100000513, 100000017, 100000040]</td>\n",
       "    </tr>\n",
       "    <tr>\n",
       "      <th>1</th>\n",
       "      <td>61299</td>\n",
       "      <td>[100000427]</td>\n",
       "      <td>[100000513, 100000017, 100000040]</td>\n",
       "    </tr>\n",
       "    <tr>\n",
       "      <th>2</th>\n",
       "      <td>64059</td>\n",
       "      <td>[100006888, 100010236]</td>\n",
       "      <td>[100000513, 100000017, 100000040]</td>\n",
       "    </tr>\n",
       "    <tr>\n",
       "      <th>3</th>\n",
       "      <td>65613</td>\n",
       "      <td>[100006556, 100003291, 100001173]</td>\n",
       "      <td>[100000513, 100000017, 100000040]</td>\n",
       "    </tr>\n",
       "    <tr>\n",
       "      <th>4</th>\n",
       "      <td>73206</td>\n",
       "      <td>[100016937, 100009234]</td>\n",
       "      <td>[100000513, 100000017, 100000040]</td>\n",
       "    </tr>\n",
       "    <tr>\n",
       "      <th>...</th>\n",
       "      <td>...</td>\n",
       "      <td>...</td>\n",
       "      <td>...</td>\n",
       "    </tr>\n",
       "    <tr>\n",
       "      <th>25129</th>\n",
       "      <td>62072229</td>\n",
       "      <td>[100001246]</td>\n",
       "      <td>[100000513, 100000017, 100000040]</td>\n",
       "    </tr>\n",
       "    <tr>\n",
       "      <th>25130</th>\n",
       "      <td>62072244</td>\n",
       "      <td>[100001246]</td>\n",
       "      <td>[100000513, 100000017, 100000040]</td>\n",
       "    </tr>\n",
       "    <tr>\n",
       "      <th>25131</th>\n",
       "      <td>62072286</td>\n",
       "      <td>[100022773]</td>\n",
       "      <td>[100000513, 100000017, 100000040]</td>\n",
       "    </tr>\n",
       "    <tr>\n",
       "      <th>25132</th>\n",
       "      <td>62072334</td>\n",
       "      <td>[100005041]</td>\n",
       "      <td>[100000513, 100000017, 100000040]</td>\n",
       "    </tr>\n",
       "    <tr>\n",
       "      <th>25133</th>\n",
       "      <td>62072382</td>\n",
       "      <td>[100000009]</td>\n",
       "      <td>[100000513, 100000017, 100000040]</td>\n",
       "    </tr>\n",
       "  </tbody>\n",
       "</table>\n",
       "<p>25134 rows × 3 columns</p>\n",
       "</div>"
      ],
      "text/plain": [
       "           user                               true  \\\n",
       "0         57141                        [100002475]   \n",
       "1         61299                        [100000427]   \n",
       "2         64059             [100006888, 100010236]   \n",
       "3         65613  [100006556, 100003291, 100001173]   \n",
       "4         73206             [100016937, 100009234]   \n",
       "...         ...                                ...   \n",
       "25129  62072229                        [100001246]   \n",
       "25130  62072244                        [100001246]   \n",
       "25131  62072286                        [100022773]   \n",
       "25132  62072334                        [100005041]   \n",
       "25133  62072382                        [100000009]   \n",
       "\n",
       "                               predicted  \n",
       "0      [100000513, 100000017, 100000040]  \n",
       "1      [100000513, 100000017, 100000040]  \n",
       "2      [100000513, 100000017, 100000040]  \n",
       "3      [100000513, 100000017, 100000040]  \n",
       "4      [100000513, 100000017, 100000040]  \n",
       "...                                  ...  \n",
       "25129  [100000513, 100000017, 100000040]  \n",
       "25130  [100000513, 100000017, 100000040]  \n",
       "25131  [100000513, 100000017, 100000040]  \n",
       "25132  [100000513, 100000017, 100000040]  \n",
       "25133  [100000513, 100000017, 100000040]  \n",
       "\n",
       "[25134 rows x 3 columns]"
      ]
     },
     "execution_count": 36,
     "metadata": {},
     "output_type": "execute_result"
    }
   ],
   "source": [
    "actual_results"
   ]
  },
  {
   "cell_type": "markdown",
   "id": "fcf6e761",
   "metadata": {},
   "source": [
    "### calculate metrics"
   ]
  },
  {
   "cell_type": "code",
   "execution_count": 52,
   "id": "3ebaea75",
   "metadata": {},
   "outputs": [],
   "source": [
    "baseline_mapk = mapk( actual_results['true'], actual_results['predicted'] , k =3)"
   ]
  },
  {
   "cell_type": "code",
   "execution_count": 53,
   "id": "4ef47389",
   "metadata": {},
   "outputs": [],
   "source": [
    "baseline_precision_at_k = np.mean(actual_results.apply( lambda x: precision_at_k(x ['true'],\n",
    "                                                                                 x['predicted'], k= 3 )  , axis=1))"
   ]
  },
  {
   "cell_type": "code",
   "execution_count": 54,
   "id": "3afd930d",
   "metadata": {},
   "outputs": [],
   "source": [
    "baseline_recall_at_k = np.mean(actual_results.apply( lambda x: recall_at_k(x ['true'],\n",
    "                                                                                 x['predicted'], k= 3 )  , axis=1))"
   ]
  },
  {
   "cell_type": "code",
   "execution_count": 55,
   "id": "4b052fb7",
   "metadata": {},
   "outputs": [
    {
     "name": "stdout",
     "output_type": "stream",
     "text": [
      "baseline map@k = 0.00019 \n",
      "baseline precision@k = 0.00024\n",
      "baseline recall@k = 0.00040\n"
     ]
    }
   ],
   "source": [
    "print(f'baseline map@k = {baseline_mapk:.5f} ')\n",
    "print(f'baseline precision@k = {baseline_precision_at_k:.5f}')\n",
    "print(f'baseline recall@k = {baseline_recall_at_k:.5f}')"
   ]
  },
  {
   "cell_type": "code",
   "execution_count": null,
   "id": "c56a1554",
   "metadata": {},
   "outputs": [],
   "source": []
  }
 ],
 "metadata": {
  "kernelspec": {
   "display_name": "Python 3 (ipykernel)",
   "language": "python",
   "name": "python3"
  },
  "language_info": {
   "codemirror_mode": {
    "name": "ipython",
    "version": 3
   },
   "file_extension": ".py",
   "mimetype": "text/x-python",
   "name": "python",
   "nbconvert_exporter": "python",
   "pygments_lexer": "ipython3",
   "version": "3.8.10"
  }
 },
 "nbformat": 4,
 "nbformat_minor": 5
}
