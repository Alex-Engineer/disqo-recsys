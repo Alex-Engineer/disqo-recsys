{
 "cells": [
  {
   "cell_type": "markdown",
   "id": "6fabd8c8",
   "metadata": {},
   "source": [
    "# Use lightfm for all positive data and most populat items for cold start recomendations "
   ]
  },
  {
   "cell_type": "code",
   "execution_count": 2,
   "id": "f69dd430",
   "metadata": {},
   "outputs": [],
   "source": [
    "import pandas as pd\n",
    "import numpy as np\n",
    "import multiprocessing as mp\n",
    "NUM_CORE = 6 \n",
    "from lightfm import LightFM"
   ]
  },
  {
   "cell_type": "code",
   "execution_count": 3,
   "id": "1ac96e57",
   "metadata": {},
   "outputs": [],
   "source": [
    "import sys\n",
    "sys.path.append('..')\n",
    "from metrics import apk, mapk, precision_at_k, recall_at_k\n",
    "from utils import get_train_test_data_split, pd_to_scr_matrix\n",
    "from collections import defaultdict"
   ]
  },
  {
   "cell_type": "code",
   "execution_count": 4,
   "id": "25e81e29",
   "metadata": {},
   "outputs": [],
   "source": [
    "data = pd.read_csv('../../data/recsys_data.csv')\n",
    "data['date'] =pd.to_datetime(data['date'])"
   ]
  },
  {
   "cell_type": "code",
   "execution_count": 5,
   "id": "5dd9869a",
   "metadata": {},
   "outputs": [],
   "source": [
    "train, test  = get_train_test_data_split(data, val_start = pd.Timestamp('2020-06-27 00:00:00'), test_days= 1 )"
   ]
  },
  {
   "cell_type": "code",
   "execution_count": 6,
   "id": "0528bfcf",
   "metadata": {},
   "outputs": [],
   "source": [
    "most_popular_items = list(train.loc[train['status']==1, 'survey'].value_counts().index[0:3])"
   ]
  },
  {
   "cell_type": "code",
   "execution_count": 7,
   "id": "f1ff7a91",
   "metadata": {},
   "outputs": [
    {
     "data": {
      "text/plain": [
       "[100000513, 100000017, 100000040]"
      ]
     },
     "execution_count": 7,
     "metadata": {},
     "output_type": "execute_result"
    }
   ],
   "source": [
    "most_popular_items"
   ]
  },
  {
   "cell_type": "code",
   "execution_count": 8,
   "id": "6970fdec",
   "metadata": {},
   "outputs": [],
   "source": [
    "test_actual_results = test.loc[ test['status']==1, \n",
    "                         :].groupby( ['user'] ).apply(  lambda x: list( x['survey']) ).reset_index()\n",
    "\n",
    "test_actual_results.columns = ['user', 'true']\n",
    "\n"
   ]
  },
  {
   "cell_type": "code",
   "execution_count": 9,
   "id": "ca41c5f0",
   "metadata": {},
   "outputs": [
    {
     "data": {
      "text/html": [
       "<div>\n",
       "<style scoped>\n",
       "    .dataframe tbody tr th:only-of-type {\n",
       "        vertical-align: middle;\n",
       "    }\n",
       "\n",
       "    .dataframe tbody tr th {\n",
       "        vertical-align: top;\n",
       "    }\n",
       "\n",
       "    .dataframe thead th {\n",
       "        text-align: right;\n",
       "    }\n",
       "</style>\n",
       "<table border=\"1\" class=\"dataframe\">\n",
       "  <thead>\n",
       "    <tr style=\"text-align: right;\">\n",
       "      <th></th>\n",
       "      <th>user</th>\n",
       "      <th>true</th>\n",
       "    </tr>\n",
       "  </thead>\n",
       "  <tbody>\n",
       "    <tr>\n",
       "      <th>0</th>\n",
       "      <td>57141</td>\n",
       "      <td>[100002475]</td>\n",
       "    </tr>\n",
       "    <tr>\n",
       "      <th>1</th>\n",
       "      <td>61299</td>\n",
       "      <td>[100000427]</td>\n",
       "    </tr>\n",
       "    <tr>\n",
       "      <th>2</th>\n",
       "      <td>64059</td>\n",
       "      <td>[100006888, 100010236]</td>\n",
       "    </tr>\n",
       "    <tr>\n",
       "      <th>3</th>\n",
       "      <td>65613</td>\n",
       "      <td>[100006556, 100003291, 100001173]</td>\n",
       "    </tr>\n",
       "    <tr>\n",
       "      <th>4</th>\n",
       "      <td>73206</td>\n",
       "      <td>[100016937, 100009234]</td>\n",
       "    </tr>\n",
       "    <tr>\n",
       "      <th>...</th>\n",
       "      <td>...</td>\n",
       "      <td>...</td>\n",
       "    </tr>\n",
       "    <tr>\n",
       "      <th>25129</th>\n",
       "      <td>62072229</td>\n",
       "      <td>[100001246]</td>\n",
       "    </tr>\n",
       "    <tr>\n",
       "      <th>25130</th>\n",
       "      <td>62072244</td>\n",
       "      <td>[100001246]</td>\n",
       "    </tr>\n",
       "    <tr>\n",
       "      <th>25131</th>\n",
       "      <td>62072286</td>\n",
       "      <td>[100022773]</td>\n",
       "    </tr>\n",
       "    <tr>\n",
       "      <th>25132</th>\n",
       "      <td>62072334</td>\n",
       "      <td>[100005041]</td>\n",
       "    </tr>\n",
       "    <tr>\n",
       "      <th>25133</th>\n",
       "      <td>62072382</td>\n",
       "      <td>[100000009]</td>\n",
       "    </tr>\n",
       "  </tbody>\n",
       "</table>\n",
       "<p>25134 rows × 2 columns</p>\n",
       "</div>"
      ],
      "text/plain": [
       "           user                               true\n",
       "0         57141                        [100002475]\n",
       "1         61299                        [100000427]\n",
       "2         64059             [100006888, 100010236]\n",
       "3         65613  [100006556, 100003291, 100001173]\n",
       "4         73206             [100016937, 100009234]\n",
       "...         ...                                ...\n",
       "25129  62072229                        [100001246]\n",
       "25130  62072244                        [100001246]\n",
       "25131  62072286                        [100022773]\n",
       "25132  62072334                        [100005041]\n",
       "25133  62072382                        [100000009]\n",
       "\n",
       "[25134 rows x 2 columns]"
      ]
     },
     "execution_count": 9,
     "metadata": {},
     "output_type": "execute_result"
    }
   ],
   "source": [
    "test_actual_results"
   ]
  },
  {
   "cell_type": "code",
   "execution_count": 10,
   "id": "a183f7b6",
   "metadata": {},
   "outputs": [],
   "source": [
    "previously_seen_items = train.groupby(['user'])['survey'].apply( lambda x: list(x)).to_dict()"
   ]
  },
  {
   "cell_type": "code",
   "execution_count": 11,
   "id": "96a33fcf",
   "metadata": {},
   "outputs": [],
   "source": [
    "train = train.loc[train['status'] ==1, :]"
   ]
  },
  {
   "cell_type": "code",
   "execution_count": 12,
   "id": "72cac854",
   "metadata": {},
   "outputs": [],
   "source": [
    "train_matrix, user_id_cats, survey_id_cats= pd_to_scr_matrix(train)"
   ]
  },
  {
   "cell_type": "code",
   "execution_count": 13,
   "id": "91de3ac7",
   "metadata": {},
   "outputs": [
    {
     "data": {
      "text/plain": [
       "<38275x13166 sparse matrix of type '<class 'numpy.int64'>'\n",
       "\twith 138362 stored elements in Compressed Sparse Row format>"
      ]
     },
     "execution_count": 13,
     "metadata": {},
     "output_type": "execute_result"
    }
   ],
   "source": [
    "train_matrix"
   ]
  },
  {
   "cell_type": "code",
   "execution_count": 14,
   "id": "00504f8f",
   "metadata": {},
   "outputs": [
    {
     "data": {
      "text/plain": [
       "CategoricalDtype(categories=[   57141,    61299,    63513,    64407,    65613,    66771,\n",
       "                     73206,    73368,    73734,    83121,\n",
       "                  ...\n",
       "                  62031813, 62031843, 62031858, 62031876, 62031939, 62032119,\n",
       "                  62032227, 62032293, 62032341, 62032347],\n",
       ", ordered=True)"
      ]
     },
     "execution_count": 14,
     "metadata": {},
     "output_type": "execute_result"
    }
   ],
   "source": [
    "user_id_cats"
   ]
  },
  {
   "cell_type": "code",
   "execution_count": 15,
   "id": "26b4f0e1",
   "metadata": {},
   "outputs": [
    {
     "data": {
      "text/plain": [
       "CategoricalDtype(categories=[100000002, 100000003, 100000004, 100000005, 100000006,\n",
       "                  100000007, 100000008, 100000009, 100000010, 100000011,\n",
       "                  ...\n",
       "                  100042350, 100042351, 100042354, 100042363, 100042364,\n",
       "                  100042371, 100042374, 100042380, 100042381, 100042425],\n",
       ", ordered=True)"
      ]
     },
     "execution_count": 15,
     "metadata": {},
     "output_type": "execute_result"
    }
   ],
   "source": [
    "survey_id_cats"
   ]
  },
  {
   "cell_type": "code",
   "execution_count": 16,
   "id": "921190d6",
   "metadata": {},
   "outputs": [],
   "source": [
    "#use lightfm\n",
    "model = LightFM(loss='warp')"
   ]
  },
  {
   "cell_type": "code",
   "execution_count": 17,
   "id": "17d87eb0",
   "metadata": {},
   "outputs": [
    {
     "data": {
      "text/plain": [
       "<lightfm.lightfm.LightFM at 0x7f2a0be7a880>"
      ]
     },
     "execution_count": 17,
     "metadata": {},
     "output_type": "execute_result"
    }
   ],
   "source": [
    "model.fit(train_matrix, epochs=30)"
   ]
  },
  {
   "cell_type": "code",
   "execution_count": 18,
   "id": "87a58b4a",
   "metadata": {},
   "outputs": [],
   "source": [
    "n_users, n_items = train_matrix.shape"
   ]
  },
  {
   "cell_type": "code",
   "execution_count": 19,
   "id": "ced9d634",
   "metadata": {},
   "outputs": [
    {
     "name": "stdout",
     "output_type": "stream",
     "text": [
      "38275 13166\n"
     ]
    }
   ],
   "source": [
    "print(n_users, n_items)"
   ]
  },
  {
   "cell_type": "code",
   "execution_count": 20,
   "id": "5766fb37",
   "metadata": {},
   "outputs": [],
   "source": [
    "def mp_predict_with_seen(data, k=3):\n",
    "    \"\"\"\n",
    "    make predictions using multiprocessing. delete already seen items\n",
    "    \"\"\"\n",
    "    user_id, previous_items = data\n",
    "    scores = model.predict(user_id, np.arange(n_items))\n",
    "    top_items = list(survey_id_cats.categories[np.argsort(-scores)])\n",
    "    top_items =  [item for item in top_items if item not in previous_items]\n",
    "    return top_items[:k]\n"
   ]
  },
  {
   "cell_type": "code",
   "execution_count": 21,
   "id": "4d92aaa6",
   "metadata": {},
   "outputs": [],
   "source": [
    "# data with user and his previous items \n",
    "user_id_previously_seen_items= defaultdict(list)\n",
    "for i, user in enumerate(user_id_cats.categories):\n",
    "    user_id_previously_seen_items[i] = previously_seen_items.get(user, []  )\n",
    "x= list(zip(list( range(n_users )), [user_id_previously_seen_items[i] for i in range(n_users)] ))"
   ]
  },
  {
   "cell_type": "code",
   "execution_count": 22,
   "id": "ea8852e3",
   "metadata": {},
   "outputs": [],
   "source": [
    "# make prediction for all users in train dataset\n",
    "pool = mp.Pool(NUM_CORE)\n",
    "list_of_results_seen = pool.map(mp_predict_with_seen, x )\n",
    "pool.close()\n",
    "pool.join()"
   ]
  },
  {
   "cell_type": "code",
   "execution_count": 23,
   "id": "90c00321",
   "metadata": {},
   "outputs": [
    {
     "data": {
      "text/plain": [
       "[[100000017, 100000019, 100000513],\n",
       " [100000071, 100000406, 100000084],\n",
       " [100003515, 100000009, 100001142],\n",
       " [100001892, 100000017, 100000601],\n",
       " [100000408, 100000393, 100000079]]"
      ]
     },
     "execution_count": 23,
     "metadata": {},
     "output_type": "execute_result"
    }
   ],
   "source": [
    "list_of_results_seen[0:5]"
   ]
  },
  {
   "cell_type": "code",
   "execution_count": 24,
   "id": "59a79253",
   "metadata": {},
   "outputs": [],
   "source": [
    "predictions = pd.DataFrame( user_id_cats.categories )\n",
    "predictions.columns  = ['user']\n",
    "predictions['predicted'] = list_of_results_seen"
   ]
  },
  {
   "cell_type": "code",
   "execution_count": 25,
   "id": "50c7c448",
   "metadata": {},
   "outputs": [
    {
     "data": {
      "text/html": [
       "<div>\n",
       "<style scoped>\n",
       "    .dataframe tbody tr th:only-of-type {\n",
       "        vertical-align: middle;\n",
       "    }\n",
       "\n",
       "    .dataframe tbody tr th {\n",
       "        vertical-align: top;\n",
       "    }\n",
       "\n",
       "    .dataframe thead th {\n",
       "        text-align: right;\n",
       "    }\n",
       "</style>\n",
       "<table border=\"1\" class=\"dataframe\">\n",
       "  <thead>\n",
       "    <tr style=\"text-align: right;\">\n",
       "      <th></th>\n",
       "      <th>user</th>\n",
       "      <th>predicted</th>\n",
       "    </tr>\n",
       "  </thead>\n",
       "  <tbody>\n",
       "    <tr>\n",
       "      <th>0</th>\n",
       "      <td>57141</td>\n",
       "      <td>[100000017, 100000019, 100000513]</td>\n",
       "    </tr>\n",
       "    <tr>\n",
       "      <th>1</th>\n",
       "      <td>61299</td>\n",
       "      <td>[100000071, 100000406, 100000084]</td>\n",
       "    </tr>\n",
       "    <tr>\n",
       "      <th>2</th>\n",
       "      <td>63513</td>\n",
       "      <td>[100003515, 100000009, 100001142]</td>\n",
       "    </tr>\n",
       "    <tr>\n",
       "      <th>3</th>\n",
       "      <td>64407</td>\n",
       "      <td>[100001892, 100000017, 100000601]</td>\n",
       "    </tr>\n",
       "    <tr>\n",
       "      <th>4</th>\n",
       "      <td>65613</td>\n",
       "      <td>[100000408, 100000393, 100000079]</td>\n",
       "    </tr>\n",
       "    <tr>\n",
       "      <th>...</th>\n",
       "      <td>...</td>\n",
       "      <td>...</td>\n",
       "    </tr>\n",
       "    <tr>\n",
       "      <th>38270</th>\n",
       "      <td>62032119</td>\n",
       "      <td>[100000335, 100000043, 100000513]</td>\n",
       "    </tr>\n",
       "    <tr>\n",
       "      <th>38271</th>\n",
       "      <td>62032227</td>\n",
       "      <td>[100000276, 100000601, 100000726]</td>\n",
       "    </tr>\n",
       "    <tr>\n",
       "      <th>38272</th>\n",
       "      <td>62032293</td>\n",
       "      <td>[100000513, 100000079, 100000017]</td>\n",
       "    </tr>\n",
       "    <tr>\n",
       "      <th>38273</th>\n",
       "      <td>62032341</td>\n",
       "      <td>[100000017, 100003193, 100000601]</td>\n",
       "    </tr>\n",
       "    <tr>\n",
       "      <th>38274</th>\n",
       "      <td>62032347</td>\n",
       "      <td>[100000513, 100000017, 100001524]</td>\n",
       "    </tr>\n",
       "  </tbody>\n",
       "</table>\n",
       "<p>38275 rows × 2 columns</p>\n",
       "</div>"
      ],
      "text/plain": [
       "           user                          predicted\n",
       "0         57141  [100000017, 100000019, 100000513]\n",
       "1         61299  [100000071, 100000406, 100000084]\n",
       "2         63513  [100003515, 100000009, 100001142]\n",
       "3         64407  [100001892, 100000017, 100000601]\n",
       "4         65613  [100000408, 100000393, 100000079]\n",
       "...         ...                                ...\n",
       "38270  62032119  [100000335, 100000043, 100000513]\n",
       "38271  62032227  [100000276, 100000601, 100000726]\n",
       "38272  62032293  [100000513, 100000079, 100000017]\n",
       "38273  62032341  [100000017, 100003193, 100000601]\n",
       "38274  62032347  [100000513, 100000017, 100001524]\n",
       "\n",
       "[38275 rows x 2 columns]"
      ]
     },
     "execution_count": 25,
     "metadata": {},
     "output_type": "execute_result"
    }
   ],
   "source": [
    "predictions"
   ]
  },
  {
   "cell_type": "code",
   "execution_count": 26,
   "id": "bfd5c737",
   "metadata": {},
   "outputs": [],
   "source": [
    "test_actual_results = pd.merge(test_actual_results, predictions, how= 'left', on = 'user')"
   ]
  },
  {
   "cell_type": "code",
   "execution_count": 27,
   "id": "daadc41d",
   "metadata": {},
   "outputs": [
    {
     "data": {
      "text/html": [
       "<div>\n",
       "<style scoped>\n",
       "    .dataframe tbody tr th:only-of-type {\n",
       "        vertical-align: middle;\n",
       "    }\n",
       "\n",
       "    .dataframe tbody tr th {\n",
       "        vertical-align: top;\n",
       "    }\n",
       "\n",
       "    .dataframe thead th {\n",
       "        text-align: right;\n",
       "    }\n",
       "</style>\n",
       "<table border=\"1\" class=\"dataframe\">\n",
       "  <thead>\n",
       "    <tr style=\"text-align: right;\">\n",
       "      <th></th>\n",
       "      <th>user</th>\n",
       "      <th>true</th>\n",
       "      <th>predicted</th>\n",
       "    </tr>\n",
       "  </thead>\n",
       "  <tbody>\n",
       "    <tr>\n",
       "      <th>0</th>\n",
       "      <td>57141</td>\n",
       "      <td>[100002475]</td>\n",
       "      <td>[100000017, 100000019, 100000513]</td>\n",
       "    </tr>\n",
       "    <tr>\n",
       "      <th>1</th>\n",
       "      <td>61299</td>\n",
       "      <td>[100000427]</td>\n",
       "      <td>[100000071, 100000406, 100000084]</td>\n",
       "    </tr>\n",
       "    <tr>\n",
       "      <th>2</th>\n",
       "      <td>64059</td>\n",
       "      <td>[100006888, 100010236]</td>\n",
       "      <td>NaN</td>\n",
       "    </tr>\n",
       "    <tr>\n",
       "      <th>3</th>\n",
       "      <td>65613</td>\n",
       "      <td>[100006556, 100003291, 100001173]</td>\n",
       "      <td>[100000408, 100000393, 100000079]</td>\n",
       "    </tr>\n",
       "    <tr>\n",
       "      <th>4</th>\n",
       "      <td>73206</td>\n",
       "      <td>[100016937, 100009234]</td>\n",
       "      <td>[100000408, 100000562, 100000482]</td>\n",
       "    </tr>\n",
       "    <tr>\n",
       "      <th>...</th>\n",
       "      <td>...</td>\n",
       "      <td>...</td>\n",
       "      <td>...</td>\n",
       "    </tr>\n",
       "    <tr>\n",
       "      <th>25129</th>\n",
       "      <td>62072229</td>\n",
       "      <td>[100001246]</td>\n",
       "      <td>NaN</td>\n",
       "    </tr>\n",
       "    <tr>\n",
       "      <th>25130</th>\n",
       "      <td>62072244</td>\n",
       "      <td>[100001246]</td>\n",
       "      <td>NaN</td>\n",
       "    </tr>\n",
       "    <tr>\n",
       "      <th>25131</th>\n",
       "      <td>62072286</td>\n",
       "      <td>[100022773]</td>\n",
       "      <td>NaN</td>\n",
       "    </tr>\n",
       "    <tr>\n",
       "      <th>25132</th>\n",
       "      <td>62072334</td>\n",
       "      <td>[100005041]</td>\n",
       "      <td>NaN</td>\n",
       "    </tr>\n",
       "    <tr>\n",
       "      <th>25133</th>\n",
       "      <td>62072382</td>\n",
       "      <td>[100000009]</td>\n",
       "      <td>NaN</td>\n",
       "    </tr>\n",
       "  </tbody>\n",
       "</table>\n",
       "<p>25134 rows × 3 columns</p>\n",
       "</div>"
      ],
      "text/plain": [
       "           user                               true  \\\n",
       "0         57141                        [100002475]   \n",
       "1         61299                        [100000427]   \n",
       "2         64059             [100006888, 100010236]   \n",
       "3         65613  [100006556, 100003291, 100001173]   \n",
       "4         73206             [100016937, 100009234]   \n",
       "...         ...                                ...   \n",
       "25129  62072229                        [100001246]   \n",
       "25130  62072244                        [100001246]   \n",
       "25131  62072286                        [100022773]   \n",
       "25132  62072334                        [100005041]   \n",
       "25133  62072382                        [100000009]   \n",
       "\n",
       "                               predicted  \n",
       "0      [100000017, 100000019, 100000513]  \n",
       "1      [100000071, 100000406, 100000084]  \n",
       "2                                    NaN  \n",
       "3      [100000408, 100000393, 100000079]  \n",
       "4      [100000408, 100000562, 100000482]  \n",
       "...                                  ...  \n",
       "25129                                NaN  \n",
       "25130                                NaN  \n",
       "25131                                NaN  \n",
       "25132                                NaN  \n",
       "25133                                NaN  \n",
       "\n",
       "[25134 rows x 3 columns]"
      ]
     },
     "execution_count": 27,
     "metadata": {},
     "output_type": "execute_result"
    }
   ],
   "source": [
    "test_actual_results"
   ]
  },
  {
   "cell_type": "markdown",
   "id": "e5a93be6",
   "metadata": {},
   "source": [
    "### look at metics for non cold start predictions"
   ]
  },
  {
   "cell_type": "code",
   "execution_count": 28,
   "id": "da7243b0",
   "metadata": {},
   "outputs": [],
   "source": [
    "only_lfm_mapk = mapk( test_actual_results.loc[ test_actual_results['predicted'].notna() , 'true'], \n",
    "                     test_actual_results.loc[  test_actual_results['predicted'].notna() ,'predicted'] , k =3)\n",
    "\n",
    "\n",
    "only_lfm_precision_at_k = np.mean(test_actual_results.loc[  test_actual_results['predicted'].notna() ,:] .apply( lambda x: precision_at_k(x ['true'],\n",
    "                                                                                 x['predicted'], k= 3 )  , axis=1))\n",
    "\n",
    "only_lfm_recall_at_k = np.mean(test_actual_results.loc[  test_actual_results['predicted'].notna() ,:].apply( lambda x: recall_at_k(x ['true'],\n",
    "                                                                                 x['predicted'], k= 3 )  , axis=1))"
   ]
  },
  {
   "cell_type": "code",
   "execution_count": 29,
   "id": "3b7a2680",
   "metadata": {},
   "outputs": [
    {
     "name": "stdout",
     "output_type": "stream",
     "text": [
      "only lightfm map@k = 0.00361 \n",
      "only lightfm precision@k = 0.00390\n",
      "only lightfm recall@k = 0.00500\n"
     ]
    }
   ],
   "source": [
    "print(f'only lightfm map@k = {only_lfm_mapk:.5f} ')\n",
    "print(f'only lightfm precision@k = {only_lfm_precision_at_k:.5f}')\n",
    "print(f'only lightfm recall@k = {only_lfm_recall_at_k:.5f}')"
   ]
  },
  {
   "cell_type": "code",
   "execution_count": 30,
   "id": "e8a97e89",
   "metadata": {},
   "outputs": [
    {
     "data": {
      "text/plain": [
       "0.37363730405029044"
      ]
     },
     "execution_count": 30,
     "metadata": {},
     "output_type": "execute_result"
    }
   ],
   "source": [
    "test_actual_results['predicted'].isna().mean()"
   ]
  },
  {
   "cell_type": "markdown",
   "id": "77490221",
   "metadata": {},
   "source": [
    "## We have no train data and prediction for 37% of test and will use mostpopular baseline for them"
   ]
  },
  {
   "cell_type": "code",
   "execution_count": 31,
   "id": "dfea822b",
   "metadata": {},
   "outputs": [],
   "source": [
    "test_actual_results.loc[test_actual_results['predicted'].isna(), 'predicted' ] = test_actual_results.loc[test_actual_results['predicted'].isna(), 'predicted' ].apply(lambda x: x if x==np.nan  else most_popular_items)\n"
   ]
  },
  {
   "cell_type": "code",
   "execution_count": 32,
   "id": "9dccda5f",
   "metadata": {},
   "outputs": [],
   "source": [
    "lfm_mapk = mapk( test_actual_results['true'], test_actual_results['predicted'] , k =3)\n",
    "lfm_precision_at_k = np.mean(test_actual_results.apply( lambda x: precision_at_k(x ['true'],\n",
    "                                                                                 x['predicted'], k= 3 )  , axis=1))\n",
    "\n",
    "lfm_recall_at_k = np.mean(test_actual_results.apply( lambda x: recall_at_k(x ['true'],\n",
    "                                                                                 x['predicted'], k= 3 )  , axis=1))"
   ]
  },
  {
   "cell_type": "code",
   "execution_count": 33,
   "id": "1930f177",
   "metadata": {},
   "outputs": [
    {
     "name": "stdout",
     "output_type": "stream",
     "text": [
      "lightfm map@k = 0.00234 \n",
      "lightfm precision@k = 0.00255\n",
      "lightfm recall@k = 0.00331\n"
     ]
    }
   ],
   "source": [
    "print(f'lightfm map@k = {lfm_mapk:.5f} ')\n",
    "print(f'lightfm precision@k = {lfm_precision_at_k:.5f}')\n",
    "print(f'lightfm recall@k = {lfm_recall_at_k:.5f}')"
   ]
  },
  {
   "cell_type": "markdown",
   "id": "db0e8a6c",
   "metadata": {},
   "source": [
    "# we significantly improve baseline:\n",
    "* baseline map@k = 0.00019 \n",
    "* baseline precision@k = 0.00024\n",
    "* baseline recall@k = 0.00040"
   ]
  },
  {
   "cell_type": "code",
   "execution_count": null,
   "id": "fa2191a7",
   "metadata": {},
   "outputs": [],
   "source": []
  },
  {
   "cell_type": "code",
   "execution_count": null,
   "id": "449e5653",
   "metadata": {},
   "outputs": [],
   "source": []
  }
 ],
 "metadata": {
  "kernelspec": {
   "display_name": "Python 3 (ipykernel)",
   "language": "python",
   "name": "python3"
  },
  "language_info": {
   "codemirror_mode": {
    "name": "ipython",
    "version": 3
   },
   "file_extension": ".py",
   "mimetype": "text/x-python",
   "name": "python",
   "nbconvert_exporter": "python",
   "pygments_lexer": "ipython3",
   "version": "3.8.10"
  }
 },
 "nbformat": 4,
 "nbformat_minor": 5
}
